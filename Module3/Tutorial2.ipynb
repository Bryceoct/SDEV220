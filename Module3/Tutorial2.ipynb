{
 "cells": [
  {
   "cell_type": "code",
   "execution_count": null,
   "id": "50e02fab",
   "metadata": {},
   "outputs": [],
   "source": [
    "class Solution:\n",
    "    def binarysearch(self, arr, k):\n",
    "        # Code Here\n",
    "        low = 0\n",
    "        high = len(arr) - 1\n",
    "        result = -1 \n",
    "\n",
    "        while low <= high:\n",
    "            mid = low + (high - low) // 2\n",
    "\n",
    "            if arr[mid] == k:\n",
    "                result = mid\n",
    "\n",
    "                high = mid - 1\n",
    "            elif arr[mid] < k:\n",
    "                low = mid + 1\n",
    "            else:\n",
    "                high = mid - 1\n",
    "\n",
    "        return result"
   ]
  }
 ],
 "metadata": {
  "language_info": {
   "name": "python"
  }
 },
 "nbformat": 4,
 "nbformat_minor": 5
}
