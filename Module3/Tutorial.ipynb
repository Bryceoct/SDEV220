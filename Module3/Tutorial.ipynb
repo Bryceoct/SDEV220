{
 "cells": [
  {
   "cell_type": "code",
   "execution_count": 2,
   "id": "0114d988",
   "metadata": {},
   "outputs": [],
   "source": [
    "class Solution:\n",
    "    # Function to sort an array of 0s, 1s, and 2s\n",
    "    def sort012(self, arr):\n",
    "        # code here\n",
    "        count0 = 0\n",
    "        count1 = 0\n",
    "        count2 = 0\n",
    "\n",
    "        \n",
    "        for num in arr:\n",
    "            if num == 0:\n",
    "                count0 += 1\n",
    "            elif num == 1:\n",
    "                count1 += 1\n",
    "            else: \n",
    "                count2 += 1\n",
    "\n",
    "        \n",
    "        index = 0\n",
    "\n",
    "        \n",
    "        for _ in range(count0):\n",
    "            arr[index] = 0\n",
    "            index += 1\n",
    "\n",
    "\n",
    "        for _ in range(count1):\n",
    "            arr[index] = 1\n",
    "            index += 1\n",
    "\n",
    "        \n",
    "        for _ in range(count2):\n",
    "            arr[index] = 2\n",
    "            index += 1\n",
    "        "
   ]
  }
 ],
 "metadata": {
  "kernelspec": {
   "display_name": "\"Python/Mu (mu_venv-38-20240402-213810)\"",
   "language": "python",
   "name": "mu_venv-38-20240402-213810"
  },
  "language_info": {
   "codemirror_mode": {
    "name": "ipython",
    "version": 3
   },
   "file_extension": ".py",
   "mimetype": "text/x-python",
   "name": "python",
   "nbconvert_exporter": "python",
   "pygments_lexer": "ipython3",
   "version": "3.8.12"
  }
 },
 "nbformat": 4,
 "nbformat_minor": 5
}
