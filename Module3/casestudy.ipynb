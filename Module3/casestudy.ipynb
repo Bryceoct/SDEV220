{
 "cells": [
  {
   "cell_type": "code",
   "execution_count": 6,
   "id": "318f24ae",
   "metadata": {},
   "outputs": [],
   "source": [
    "class Vehicle:\n",
    "    def __init__(self, vehicle_type):\n",
    "        self.vehicle_type = vehicle_type "
   ]
  },
  {
   "cell_type": "code",
   "execution_count": 7,
   "id": "ca5f3d7f",
   "metadata": {},
   "outputs": [],
   "source": [
    "class automobile(Vehicle):\n",
    "    def __init__(self, vehicle_type, year, make, model, doors, roof):\n",
    "        super().__init__(vehicle_type)\n",
    "        self.year = year\n",
    "        self.make = make\n",
    "        self.model = model\n",
    "        self.doors = doors\n",
    "        self.roof = roof"
   ]
  },
  {
   "cell_type": "code",
   "execution_count": 8,
   "id": "704d2c61",
   "metadata": {},
   "outputs": [],
   "source": [
    "vehicle_type = \"car\"\n",
    "\n",
    "year = input(\"Enter the year of the vehicle: \")\n",
    "make = input(\"Enter the make of the vehicle: \")\n",
    "model = input(\"Enter the model of the vehicle: \")\n",
    "doors = input(\"Enter the number of doors (2 or 4): \")\n",
    "roof = input(\"Enter the type of roof? (solid or sun roof): \")"
   ]
  },
  {
   "cell_type": "code",
   "execution_count": 9,
   "id": "4d990a9d",
   "metadata": {},
   "outputs": [
    {
     "name": "stdout",
     "output_type": "stream",
     "text": [
      "Vehicle Type: car\n",
      "Year: 2012\n",
      "Make: Mazda\n",
      "Model: Mazda 3 sport\n",
      "Doors: 4\n",
      "Roof Type: solid\n"
     ]
    }
   ],
   "source": [
    "my_car = automobile(vehicle_type, year, make, model, doors, roof)\n",
    "\n",
    "print(\"Vehicle Type:\", my_car.vehicle_type)\n",
    "print(\"Year:\", my_car.year)\n",
    "print(\"Make:\", my_car.make)\n",
    "print(\"Model:\", my_car.model)\n",
    "print(\"Doors:\", my_car.doors)\n",
    "print(\"Roof Type:\", my_car.roof)"
   ]
  }
 ],
 "metadata": {
  "kernelspec": {
   "display_name": "\"Python/Mu (mu_venv-38-20240402-213810)\"",
   "language": "python",
   "name": "mu_venv-38-20240402-213810"
  },
  "language_info": {
   "codemirror_mode": {
    "name": "ipython",
    "version": 3
   },
   "file_extension": ".py",
   "mimetype": "text/x-python",
   "name": "python",
   "nbconvert_exporter": "python",
   "pygments_lexer": "ipython3",
   "version": "3.8.12"
  }
 },
 "nbformat": 4,
 "nbformat_minor": 5
}
