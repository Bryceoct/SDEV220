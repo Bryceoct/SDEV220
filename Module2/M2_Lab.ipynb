{
 "cells": [
  {
   "cell_type": "code",
   "execution_count": null,
   "id": "ae0dfb80",
   "metadata": {},
   "outputs": [],
   "source": [
    "# Bryce Harrison\n",
    "# M2_Lab.ipynb\n",
    "# 2025-06-23\n",
    "# This program accepts student names and GPA's and determines if they qualify for the Deans list or Honor roll.\n",
    "\n",
    "# Loop to accept student names and GPA's\n",
    "# until the user enters \"ZZZ\" for the last name.\n",
    "while True:\n",
    "    last = input(\"Enter last name (or ZZZ to quit): \")\n",
    "    if last.upper() == \"ZZZ\":\n",
    "        break\n",
    "    \n",
    "# Accept first name and GPA\n",
    "    first = input(\"Enter first name: \")\n",
    "    gpa = float(input(\"Enter GPA: \"))\n",
    "\n",
    "# Determine if the student qualifies for the Deans List or Honor Roll\n",
    "    if gpa >= 3.5:\n",
    "        print(first, last, \"made the Deans List.\")\n",
    "    elif gpa >= 3.25:\n",
    "        print(first, last, \"made the Honor Roll.\")\n",
    "    else:\n",
    "        print(first, last, \"did not make the Dean's List or Honor Roll.\")"
   ]
  }
 ],
 "metadata": {
  "kernelspec": {
   "display_name": "\"Python/Mu (mu_venv-38-20240402-213810)\"",
   "language": "python",
   "name": "mu_venv-38-20240402-213810"
  },
  "language_info": {
   "codemirror_mode": {
    "name": "ipython",
    "version": 3
   },
   "file_extension": ".py",
   "mimetype": "text/x-python",
   "name": "python",
   "nbconvert_exporter": "python",
   "pygments_lexer": "ipython3",
   "version": "3.8.12"
  }
 },
 "nbformat": 4,
 "nbformat_minor": 5
}
